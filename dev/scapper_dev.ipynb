{
 "cells": [
  {
   "cell_type": "markdown",
   "id": "54005537",
   "metadata": {},
   "source": [
    "This note book is used for testing scrapper codes"
   ]
  },
  {
   "cell_type": "code",
   "execution_count": null,
   "id": "c3a39054",
   "metadata": {},
   "outputs": [],
   "source": [
    "import asyncio\n",
    "from playwright.async_api import async_playwright, Page, BrowserContext\n",
    "from pathlib import Path\n",
    "from dotenv import load_dotenv\n",
    "import os\n",
    "\n",
    "load_dotenv()\n",
    "LINKEDIN_EMAIL = os.getenv(\"LINKEDIN_EMAIL\")\n",
    "LINKEDIN_PASSWORD = os.getenv(\"LINKEDIN_PASSWORD\")\n",
    "STORAGE_PATH = Path.cwd().parent / \".storage_state.json\"\n",
    "print(STORAGE_PATH)\n",
    "SEARCH_TERM = \"Software Engineer\""
   ]
  },
  {
   "cell_type": "code",
   "execution_count": null,
   "id": "48025d7f",
   "metadata": {},
   "outputs": [],
   "source": [
    "async def login(context: BrowserContext, page: Page):\n",
    "    await page.goto(\"https://www.linkedin.com/login\")\n",
    "\n",
    "    await page.fill(\"#username\", LINKEDIN_EMAIL)\n",
    "    await page.fill(\"#password\", LINKEDIN_PASSWORD)\n",
    "    await page.wait_for_timeout(2000)\n",
    "\n",
    "    await page.click(\"button[type=submit]\")\n",
    "    await page.wait_for_load_state(\"domcontentloaded\")\n",
    "    print(\"✅ Logged in to LinkedIn.\")\n",
    "\n",
    "    # Save session cookies\n",
    "    await context.storage_state(path=STORAGE_PATH)\n",
    "    print(f\"✅ Session cookies saved to {STORAGE_PATH}\")"
   ]
  },
  {
   "cell_type": "code",
   "execution_count": null,
   "id": "f33da6a1",
   "metadata": {},
   "outputs": [],
   "source": [
    "async def navigate_to_search_page_with_filters(page: Page, \n",
    "                                               search_term: str = SEARCH_TERM,\n",
    "                                               page_num: int = 1) -> bool:\n",
    "    keyword = search_term.strip().replace(' ', '%20')\n",
    "    experience = \"2%2C3%2C4\"\n",
    "    remote = \"2\"\n",
    "    sort_by = \"DD\"\n",
    "    start_num = str((page_num - 1) * 25)\n",
    "\n",
    "    search_url = f\"https://www.linkedin.com/jobs/search/?f_E={experience}&f_WT={remote}&keywords={keyword}&sortBy={sort_by}&start={start_num}\"\n",
    "\n",
    "    try:\n",
    "        await page.goto(search_url, wait_until=\"domcontentloaded\")\n",
    "        await page.wait_for_timeout(3000)\n",
    "\n",
    "        # Check if the sign-in popup is present\n",
    "        sign_in_popup = page.locator('button:has-text(\"Sign in\")')\n",
    "\n",
    "        if await sign_in_popup.is_visible():\n",
    "            print(\"⚠️ Sign-in popup detected — login is required.\")\n",
    "            return False\n",
    "\n",
    "        print(\"✅ Navigated to job search page without login.\")\n",
    "        return True\n",
    "\n",
    "    except Exception as e:\n",
    "        print(f\"❌ Navigation failed: {e}\")\n",
    "        return False"
   ]
  },
  {
   "cell_type": "code",
   "execution_count": null,
   "id": "39c27d87",
   "metadata": {},
   "outputs": [],
   "source": [
    "async def main():\n",
    "    async with async_playwright() as p:\n",
    "        # Init page loading\n",
    "        browser = await p.chromium.launch(headless=False)\n",
    "\n",
    "        if STORAGE_PATH.exists():\n",
    "            context = await browser.new_context(storage_state=str(STORAGE_PATH))\n",
    "            print(f\"ℹ️ Loaded storage state from {STORAGE_PATH.resolve()}\")\n",
    "        else:\n",
    "            context = await browser.new_context()\n",
    "\n",
    "        page = await context.new_page()\n",
    "\n",
    "        success = await navigate_to_search_page_with_filters(page)\n",
    "        if not success:\n",
    "            await login(context, page)\n",
    "            # Try again after login\n",
    "            await navigate_to_search_page_with_filters(page)\n",
    "\n",
    "\n",
    "        await page.wait_for_timeout(1000000)\n",
    "        await browser.close()"
   ]
  },
  {
   "cell_type": "code",
   "execution_count": null,
   "id": "52ded834",
   "metadata": {},
   "outputs": [],
   "source": [
    "if __name__ == \"__main__\":\n",
    "    await main()"
   ]
  }
 ],
 "metadata": {
  "kernelspec": {
   "display_name": ".venv",
   "language": "python",
   "name": "python3"
  },
  "language_info": {
   "codemirror_mode": {
    "name": "ipython",
    "version": 3
   },
   "file_extension": ".py",
   "mimetype": "text/x-python",
   "name": "python",
   "nbconvert_exporter": "python",
   "pygments_lexer": "ipython3",
   "version": "3.12.10"
  }
 },
 "nbformat": 4,
 "nbformat_minor": 5
}
